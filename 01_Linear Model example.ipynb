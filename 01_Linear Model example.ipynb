{
 "cells": [
  {
   "cell_type": "code",
   "execution_count": 47,
   "id": "b2bd82d7",
   "metadata": {
    "ExecuteTime": {
     "end_time": "2023-07-03T15:47:47.485209Z",
     "start_time": "2023-07-03T15:47:47.485039Z"
    }
   },
   "outputs": [],
   "source": [
    "# !python -V"
   ]
  },
  {
   "cell_type": "markdown",
   "id": "6d9f38ec",
   "metadata": {},
   "source": [
    "### Preprocessing Data"
   ]
  },
  {
   "cell_type": "code",
   "execution_count": 48,
   "id": "41062d8a",
   "metadata": {
    "ExecuteTime": {
     "end_time": "2023-07-03T15:47:47.494696Z",
     "start_time": "2023-07-03T15:47:47.488045Z"
    }
   },
   "outputs": [],
   "source": [
    "# import libraries for data preprocessing\n",
    "\n",
    "import pandas as pd\n",
    "from sklearn.feature_extraction import DictVectorizer\n",
    "from sklearn.linear_model import LinearRegression\n",
    "from sklearn.linear_model import Lasso\n",
    "\n",
    "from sklearn.metrics import mean_squared_error"
   ]
  },
  {
   "cell_type": "code",
   "execution_count": 49,
   "id": "43a28518",
   "metadata": {},
   "outputs": [
    {
     "name": "stdout",
     "output_type": "stream",
     "text": [
      "Requirement already satisfied: mlflow in c:\\users\\drago\\documents\\ironhack\\.venv\\lib\\site-packages (2.14.0)\n",
      "Requirement already satisfied: Flask<4 in c:\\users\\drago\\documents\\ironhack\\.venv\\lib\\site-packages (from mlflow) (3.0.3)\n",
      "Requirement already satisfied: alembic!=1.10.0,<2 in c:\\users\\drago\\documents\\ironhack\\.venv\\lib\\site-packages (from mlflow) (1.13.1)\n",
      "Requirement already satisfied: cachetools<6,>=5.0.0 in c:\\users\\drago\\documents\\ironhack\\.venv\\lib\\site-packages (from mlflow) (5.3.3)\n",
      "Requirement already satisfied: click<9,>=7.0 in c:\\users\\drago\\documents\\ironhack\\.venv\\lib\\site-packages (from mlflow) (8.1.7)\n",
      "Requirement already satisfied: cloudpickle<4 in c:\\users\\drago\\documents\\ironhack\\.venv\\lib\\site-packages (from mlflow) (3.0.0)\n",
      "Requirement already satisfied: docker<8,>=4.0.0 in c:\\users\\drago\\documents\\ironhack\\.venv\\lib\\site-packages (from mlflow) (7.1.0)\n",
      "Requirement already satisfied: entrypoints<1 in c:\\users\\drago\\documents\\ironhack\\.venv\\lib\\site-packages (from mlflow) (0.4)\n",
      "Requirement already satisfied: gitpython<4,>=3.1.9 in c:\\users\\drago\\documents\\ironhack\\.venv\\lib\\site-packages (from mlflow) (3.1.43)\n",
      "Requirement already satisfied: graphene<4 in c:\\users\\drago\\documents\\ironhack\\.venv\\lib\\site-packages (from mlflow) (3.3)\n",
      "Requirement already satisfied: importlib-metadata!=4.7.0,<8,>=3.7.0 in c:\\users\\drago\\documents\\ironhack\\.venv\\lib\\site-packages (from mlflow) (7.1.0)\n",
      "Requirement already satisfied: markdown<4,>=3.3 in c:\\users\\drago\\documents\\ironhack\\.venv\\lib\\site-packages (from mlflow) (3.6)\n",
      "Requirement already satisfied: matplotlib<4 in c:\\users\\drago\\documents\\ironhack\\.venv\\lib\\site-packages (from mlflow) (3.9.0)\n",
      "Requirement already satisfied: numpy<2 in c:\\users\\drago\\documents\\ironhack\\.venv\\lib\\site-packages (from mlflow) (1.26.4)\n",
      "Requirement already satisfied: opentelemetry-api<3,>=1.9.0 in c:\\users\\drago\\documents\\ironhack\\.venv\\lib\\site-packages (from mlflow) (1.25.0)\n",
      "Requirement already satisfied: opentelemetry-sdk<3,>=1.9.0 in c:\\users\\drago\\documents\\ironhack\\.venv\\lib\\site-packages (from mlflow) (1.25.0)\n",
      "Requirement already satisfied: packaging<25 in c:\\users\\drago\\documents\\ironhack\\.venv\\lib\\site-packages (from mlflow) (24.1)\n",
      "Requirement already satisfied: pandas<3 in c:\\users\\drago\\documents\\ironhack\\.venv\\lib\\site-packages (from mlflow) (2.2.2)\n",
      "Requirement already satisfied: protobuf<5,>=3.12.0 in c:\\users\\drago\\documents\\ironhack\\.venv\\lib\\site-packages (from mlflow) (4.25.3)\n",
      "Requirement already satisfied: pyarrow<16,>=4.0.0 in c:\\users\\drago\\documents\\ironhack\\.venv\\lib\\site-packages (from mlflow) (15.0.2)\n",
      "Requirement already satisfied: pytz<2025 in c:\\users\\drago\\documents\\ironhack\\.venv\\lib\\site-packages (from mlflow) (2024.1)\n",
      "Requirement already satisfied: pyyaml<7,>=5.1 in c:\\users\\drago\\documents\\ironhack\\.venv\\lib\\site-packages (from mlflow) (6.0.1)\n",
      "Requirement already satisfied: querystring-parser<2 in c:\\users\\drago\\documents\\ironhack\\.venv\\lib\\site-packages (from mlflow) (1.2.4)\n",
      "Requirement already satisfied: requests<3,>=2.17.3 in c:\\users\\drago\\documents\\ironhack\\.venv\\lib\\site-packages (from mlflow) (2.32.3)\n",
      "Requirement already satisfied: scikit-learn<2 in c:\\users\\drago\\documents\\ironhack\\.venv\\lib\\site-packages (from mlflow) (1.5.0)\n",
      "Requirement already satisfied: scipy<2 in c:\\users\\drago\\documents\\ironhack\\.venv\\lib\\site-packages (from mlflow) (1.13.1)\n",
      "Requirement already satisfied: sqlalchemy<3,>=1.4.0 in c:\\users\\drago\\documents\\ironhack\\.venv\\lib\\site-packages (from mlflow) (2.0.30)\n",
      "Requirement already satisfied: sqlparse<1,>=0.4.0 in c:\\users\\drago\\documents\\ironhack\\.venv\\lib\\site-packages (from mlflow) (0.5.0)\n",
      "Requirement already satisfied: Jinja2<4,>=3.0 in c:\\users\\drago\\documents\\ironhack\\.venv\\lib\\site-packages (from mlflow) (3.1.4)\n",
      "Requirement already satisfied: waitress<4 in c:\\users\\drago\\documents\\ironhack\\.venv\\lib\\site-packages (from mlflow) (3.0.0)\n",
      "Requirement already satisfied: Mako in c:\\users\\drago\\documents\\ironhack\\.venv\\lib\\site-packages (from alembic!=1.10.0,<2->mlflow) (1.3.5)\n",
      "Requirement already satisfied: typing-extensions>=4 in c:\\users\\drago\\documents\\ironhack\\.venv\\lib\\site-packages (from alembic!=1.10.0,<2->mlflow) (4.12.2)\n",
      "Requirement already satisfied: colorama in c:\\users\\drago\\documents\\ironhack\\.venv\\lib\\site-packages (from click<9,>=7.0->mlflow) (0.4.6)\n",
      "Requirement already satisfied: pywin32>=304 in c:\\users\\drago\\documents\\ironhack\\.venv\\lib\\site-packages (from docker<8,>=4.0.0->mlflow) (306)\n",
      "Requirement already satisfied: urllib3>=1.26.0 in c:\\users\\drago\\documents\\ironhack\\.venv\\lib\\site-packages (from docker<8,>=4.0.0->mlflow) (2.2.1)\n",
      "Requirement already satisfied: Werkzeug>=3.0.0 in c:\\users\\drago\\documents\\ironhack\\.venv\\lib\\site-packages (from Flask<4->mlflow) (3.0.3)\n",
      "Requirement already satisfied: itsdangerous>=2.1.2 in c:\\users\\drago\\documents\\ironhack\\.venv\\lib\\site-packages (from Flask<4->mlflow) (2.2.0)\n",
      "Requirement already satisfied: blinker>=1.6.2 in c:\\users\\drago\\documents\\ironhack\\.venv\\lib\\site-packages (from Flask<4->mlflow) (1.8.2)\n",
      "Requirement already satisfied: gitdb<5,>=4.0.1 in c:\\users\\drago\\documents\\ironhack\\.venv\\lib\\site-packages (from gitpython<4,>=3.1.9->mlflow) (4.0.11)\n",
      "Requirement already satisfied: graphql-core<3.3,>=3.1 in c:\\users\\drago\\documents\\ironhack\\.venv\\lib\\site-packages (from graphene<4->mlflow) (3.2.3)\n",
      "Requirement already satisfied: graphql-relay<3.3,>=3.1 in c:\\users\\drago\\documents\\ironhack\\.venv\\lib\\site-packages (from graphene<4->mlflow) (3.2.0)\n",
      "Requirement already satisfied: aniso8601<10,>=8 in c:\\users\\drago\\documents\\ironhack\\.venv\\lib\\site-packages (from graphene<4->mlflow) (9.0.1)\n",
      "Requirement already satisfied: zipp>=0.5 in c:\\users\\drago\\documents\\ironhack\\.venv\\lib\\site-packages (from importlib-metadata!=4.7.0,<8,>=3.7.0->mlflow) (3.19.2)\n",
      "Requirement already satisfied: MarkupSafe>=2.0 in c:\\users\\drago\\documents\\ironhack\\.venv\\lib\\site-packages (from Jinja2<4,>=3.0->mlflow) (2.1.5)\n",
      "Requirement already satisfied: contourpy>=1.0.1 in c:\\users\\drago\\documents\\ironhack\\.venv\\lib\\site-packages (from matplotlib<4->mlflow) (1.2.1)\n",
      "Requirement already satisfied: cycler>=0.10 in c:\\users\\drago\\documents\\ironhack\\.venv\\lib\\site-packages (from matplotlib<4->mlflow) (0.12.1)\n",
      "Requirement already satisfied: fonttools>=4.22.0 in c:\\users\\drago\\documents\\ironhack\\.venv\\lib\\site-packages (from matplotlib<4->mlflow) (4.53.0)\n",
      "Requirement already satisfied: kiwisolver>=1.3.1 in c:\\users\\drago\\documents\\ironhack\\.venv\\lib\\site-packages (from matplotlib<4->mlflow) (1.4.5)\n",
      "Requirement already satisfied: pillow>=8 in c:\\users\\drago\\documents\\ironhack\\.venv\\lib\\site-packages (from matplotlib<4->mlflow) (10.3.0)\n",
      "Requirement already satisfied: pyparsing>=2.3.1 in c:\\users\\drago\\documents\\ironhack\\.venv\\lib\\site-packages (from matplotlib<4->mlflow) (3.1.2)\n",
      "Requirement already satisfied: python-dateutil>=2.7 in c:\\users\\drago\\documents\\ironhack\\.venv\\lib\\site-packages (from matplotlib<4->mlflow) (2.9.0.post0)\n",
      "Requirement already satisfied: deprecated>=1.2.6 in c:\\users\\drago\\documents\\ironhack\\.venv\\lib\\site-packages (from opentelemetry-api<3,>=1.9.0->mlflow) (1.2.14)\n",
      "Requirement already satisfied: opentelemetry-semantic-conventions==0.46b0 in c:\\users\\drago\\documents\\ironhack\\.venv\\lib\\site-packages (from opentelemetry-sdk<3,>=1.9.0->mlflow) (0.46b0)\n",
      "Requirement already satisfied: tzdata>=2022.7 in c:\\users\\drago\\documents\\ironhack\\.venv\\lib\\site-packages (from pandas<3->mlflow) (2024.1)\n",
      "Requirement already satisfied: six in c:\\users\\drago\\documents\\ironhack\\.venv\\lib\\site-packages (from querystring-parser<2->mlflow) (1.16.0)\n",
      "Requirement already satisfied: charset-normalizer<4,>=2 in c:\\users\\drago\\documents\\ironhack\\.venv\\lib\\site-packages (from requests<3,>=2.17.3->mlflow) (3.3.2)\n",
      "Requirement already satisfied: idna<4,>=2.5 in c:\\users\\drago\\documents\\ironhack\\.venv\\lib\\site-packages (from requests<3,>=2.17.3->mlflow) (3.7)\n",
      "Requirement already satisfied: certifi>=2017.4.17 in c:\\users\\drago\\documents\\ironhack\\.venv\\lib\\site-packages (from requests<3,>=2.17.3->mlflow) (2024.6.2)\n",
      "Requirement already satisfied: joblib>=1.2.0 in c:\\users\\drago\\documents\\ironhack\\.venv\\lib\\site-packages (from scikit-learn<2->mlflow) (1.4.2)\n",
      "Requirement already satisfied: threadpoolctl>=3.1.0 in c:\\users\\drago\\documents\\ironhack\\.venv\\lib\\site-packages (from scikit-learn<2->mlflow) (3.5.0)\n",
      "Requirement already satisfied: greenlet!=0.4.17 in c:\\users\\drago\\documents\\ironhack\\.venv\\lib\\site-packages (from sqlalchemy<3,>=1.4.0->mlflow) (3.0.3)\n",
      "Requirement already satisfied: wrapt<2,>=1.10 in c:\\users\\drago\\documents\\ironhack\\.venv\\lib\\site-packages (from deprecated>=1.2.6->opentelemetry-api<3,>=1.9.0->mlflow) (1.16.0)\n",
      "Requirement already satisfied: smmap<6,>=3.0.1 in c:\\users\\drago\\documents\\ironhack\\.venv\\lib\\site-packages (from gitdb<5,>=4.0.1->gitpython<4,>=3.1.9->mlflow) (5.0.1)\n",
      "Note: you may need to restart the kernel to use updated packages.\n"
     ]
    }
   ],
   "source": [
    "pip install mlflow"
   ]
  },
  {
   "cell_type": "code",
   "execution_count": 50,
   "id": "4add538c",
   "metadata": {
    "ExecuteTime": {
     "end_time": "2023-07-10T23:28:34.458786Z",
     "start_time": "2023-07-10T23:28:33.691937Z"
    },
    "scrolled": true
   },
   "outputs": [],
   "source": [
    "import mlflow"
   ]
  },
  {
   "cell_type": "code",
   "execution_count": 51,
   "id": "8c34e8a9",
   "metadata": {
    "ExecuteTime": {
     "end_time": "2023-07-03T15:47:47.501013Z",
     "start_time": "2023-07-03T15:47:47.499506Z"
    }
   },
   "outputs": [],
   "source": [
    "# mlflow.delete_experiment(0)\n",
    "#\n",
    "# mlflow.start_run()\n",
    "# run = mlflow.active_run()\n",
    "# print(\"Active run_id: {}\".format(run.info.run_id))\n",
    "# mlflow.end_run()"
   ]
  },
  {
   "cell_type": "code",
   "execution_count": null,
   "id": "332438db",
   "metadata": {
    "ExecuteTime": {
     "end_time": "2023-07-03T15:56:59.843751Z",
     "start_time": "2023-07-03T15:56:59.837913Z"
    }
   },
   "outputs": [],
   "source": []
  },
  {
   "cell_type": "code",
   "execution_count": 52,
   "id": "1464985f",
   "metadata": {
    "ExecuteTime": {
     "end_time": "2023-06-12T13:17:15.813917Z",
     "start_time": "2023-06-12T13:17:15.766267Z"
    }
   },
   "outputs": [
    {
     "name": "stderr",
     "output_type": "stream",
     "text": [
      "2024/06/18 15:08:39 INFO mlflow.tracking.fluent: Experiment with name 'nyc-taxi-experiment_linear' does not exist. Creating a new experiment.\n"
     ]
    },
    {
     "data": {
      "text/plain": [
       "<Experiment: artifact_location='file:///c:/Users/drago/Documents/Ironhack/Week8/lab-ml-ops/mlruns/3', creation_time=1718716119450, experiment_id='3', last_update_time=1718716119450, lifecycle_stage='active', name='nyc-taxi-experiment_linear', tags={}>"
      ]
     },
     "execution_count": 52,
     "metadata": {},
     "output_type": "execute_result"
    }
   ],
   "source": [
    "# sqlite is used as mlflow backend and set the experiment name for tracking\n",
    "mlflow.set_tracking_uri(\"sqlite:///mlflow.db\")\n",
    "mlflow.set_experiment(\"nyc-taxi-experiment_linear\")"
   ]
  },
  {
   "cell_type": "markdown",
   "id": "2d226e07",
   "metadata": {},
   "source": [
    "### Train using Linear Regressor and set the experiment to mlflow manually"
   ]
  },
  {
   "cell_type": "code",
   "execution_count": 53,
   "id": "f9e6479e",
   "metadata": {
    "ExecuteTime": {
     "end_time": "2023-06-12T13:17:15.819233Z",
     "start_time": "2023-06-12T13:17:15.816843Z"
    }
   },
   "outputs": [],
   "source": [
    "# Preprocessing Data\n",
    "# function to read the data and remove outliers\n",
    "\n",
    "def read_dataframe(filename):\n",
    "    df = pd.read_parquet(filename)\n",
    "\n",
    "    df.lpep_dropoff_datetime = pd.to_datetime(df.lpep_dropoff_datetime)\n",
    "    df.lpep_pickup_datetime = pd.to_datetime(df.lpep_pickup_datetime)\n",
    "\n",
    "    df['duration'] = df.lpep_dropoff_datetime - df.lpep_pickup_datetime\n",
    "    df.duration = df.duration.apply(lambda td: td.total_seconds() / 60)\n",
    "    df = df[(df.duration >= 1) & (df.duration <= 60)]\n",
    "\n",
    "    categorical = ['PULocationID', 'DOLocationID']\n",
    "    df[categorical] = df[categorical].astype(str)\n",
    "    \n",
    "    return df\n",
    "\n"
   ]
  },
  {
   "cell_type": "code",
   "execution_count": 54,
   "id": "8029eba0",
   "metadata": {
    "ExecuteTime": {
     "end_time": "2023-06-12T13:17:17.502441Z",
     "start_time": "2023-06-12T13:17:15.828019Z"
    }
   },
   "outputs": [],
   "source": [
    "# call read and preprocessing functions for train, validation dataset\n",
    "df_train = read_dataframe('Data/green_tripdata_2021-01.parquet')\n",
    "df_val = read_dataframe('Data/green_tripdata_2021-02.parquet')"
   ]
  },
  {
   "cell_type": "code",
   "execution_count": 55,
   "id": "f6f2f0eb",
   "metadata": {
    "ExecuteTime": {
     "end_time": "2023-06-12T13:17:17.509859Z",
     "start_time": "2023-06-12T13:17:17.509702Z"
    }
   },
   "outputs": [
    {
     "data": {
      "text/plain": [
       "(73908, 61921)"
      ]
     },
     "execution_count": 55,
     "metadata": {},
     "output_type": "execute_result"
    }
   ],
   "source": [
    "# info of dataset\n",
    "len(df_train), len(df_val)"
   ]
  },
  {
   "cell_type": "code",
   "execution_count": 56,
   "id": "951d51ef",
   "metadata": {
    "ExecuteTime": {
     "end_time": "2023-06-12T13:17:17.569634Z",
     "start_time": "2023-06-12T13:17:17.509954Z"
    }
   },
   "outputs": [],
   "source": [
    "# feature engineering\n",
    "df_train['PU_DO'] = df_train['PULocationID'] + '_' + df_train['DOLocationID']\n",
    "df_val['PU_DO'] = df_val['PULocationID'] + '_' + df_val['DOLocationID']"
   ]
  },
  {
   "cell_type": "code",
   "execution_count": 57,
   "id": "c5cbfc25",
   "metadata": {
    "ExecuteTime": {
     "end_time": "2023-06-12T13:17:18.073199Z",
     "start_time": "2023-06-12T13:17:17.552342Z"
    }
   },
   "outputs": [],
   "source": [
    "# fit the dictvectorizer and preprocess data\n",
    "categorical = ['PU_DO'] #'PULocationID', 'DOLocationID']\n",
    "numerical = ['trip_distance']\n",
    "\n",
    "dv = DictVectorizer()\n",
    "\n",
    "train_dicts = df_train[categorical + numerical].to_dict(orient='records')\n",
    "X_train = dv.fit_transform(train_dicts)\n",
    "\n",
    "val_dicts = df_val[categorical + numerical].to_dict(orient='records')\n",
    "X_val = dv.transform(val_dicts)\n",
    "target = 'duration'\n",
    "y_train = df_train[target].values\n",
    "y_val = df_val[target].values"
   ]
  },
  {
   "cell_type": "code",
   "execution_count": 58,
   "id": "429e2394",
   "metadata": {
    "ExecuteTime": {
     "end_time": "2023-06-12T13:17:18.156757Z",
     "start_time": "2023-06-12T13:17:18.073417Z"
    }
   },
   "outputs": [],
   "source": [
    "# 1. Train a linear model (without mlflow)\n",
    "lr = LinearRegression()\n",
    "lr.fit(X_train, y_train)\n",
    "\n",
    "y_pred = lr.predict(X_val)\n",
    "\n",
    "# mean_squared_error(y_val, y_pred, squared=False)"
   ]
  },
  {
   "cell_type": "code",
   "execution_count": 59,
   "id": "29678ae9",
   "metadata": {},
   "outputs": [],
   "source": [
    "import pickle"
   ]
  },
  {
   "cell_type": "code",
   "execution_count": 60,
   "id": "22bf6f8b",
   "metadata": {
    "ExecuteTime": {
     "end_time": "2023-06-12T13:17:18.159646Z",
     "start_time": "2023-06-12T13:17:18.157431Z"
    }
   },
   "outputs": [],
   "source": [
    "with open('lin_reg.bin', 'wb') as f_out:\n",
    "    pickle.dump((dv, lr), f_out)"
   ]
  },
  {
   "cell_type": "code",
   "execution_count": 61,
   "id": "ec332637",
   "metadata": {
    "ExecuteTime": {
     "end_time": "2023-06-12T13:17:18.163971Z",
     "start_time": "2023-06-12T13:17:18.162239Z"
    }
   },
   "outputs": [],
   "source": [
    "# Train another linear model (Lasso)\n",
    "# lr = Lasso(0.01)\n",
    "# lr.fit(X_train, y_train)\n",
    "\n",
    "# y_pred = lr.predict(X_val)\n",
    "\n",
    "# mean_squared_error(y_val, y_pred, squared=False)"
   ]
  },
  {
   "cell_type": "code",
   "execution_count": 62,
   "id": "a4999b94",
   "metadata": {
    "ExecuteTime": {
     "end_time": "2023-06-12T13:17:21.043090Z",
     "start_time": "2023-06-12T13:17:18.166319Z"
    }
   },
   "outputs": [
    {
     "name": "stderr",
     "output_type": "stream",
     "text": [
      "c:\\Users\\drago\\Documents\\Ironhack\\.venv\\lib\\site-packages\\sklearn\\metrics\\_regression.py:492: FutureWarning: 'squared' is deprecated in version 1.4 and will be removed in 1.6. To calculate the root mean squared error, use the function'root_mean_squared_error'.\n",
      "  warnings.warn(\n"
     ]
    }
   ],
   "source": [
    "# 2. Train a linear model (with mlflow)\n",
    "\n",
    "with mlflow.start_run():\n",
    "\n",
    "    mlflow.set_tag(\"developer\", \"Amber\")\n",
    "\n",
    "    mlflow.log_param(\"train-data-path\", \"./data/green_tripdata_2021-01.parquet\")\n",
    "    mlflow.log_param(\"valid-data-path\", \"./data/green_tripdata_2021-02.parquet\")\n",
    "\n",
    "    alpha = 0.01\n",
    "    mlflow.log_param(\"alpha\", alpha)\n",
    "\n",
    "    lr = Lasso(alpha)\n",
    "    lr.fit(X_train, y_train)\n",
    "\n",
    "    y_pred = lr.predict(X_val)\n",
    "\n",
    "    rmse = mean_squared_error(y_val, y_pred, squared=False)\n",
    "\n",
    "    mlflow.log_metric(\"rmse\", rmse)\n",
    "    mlflow.log_artifact(local_path=\"models/lin_reg.bin\", artifact_path=\"models_pickle\")\n"
   ]
  }
 ],
 "metadata": {
  "interpreter": {
   "hash": "0848c9d6c7d415ad6c477ff7ff8e98694d1a4aa96d0deee89244642e6b630036"
  },
  "kernelspec": {
   "display_name": "Python 3 (ipykernel)",
   "language": "python",
   "name": "python3"
  },
  "language_info": {
   "codemirror_mode": {
    "name": "ipython",
    "version": 3
   },
   "file_extension": ".py",
   "mimetype": "text/x-python",
   "name": "python",
   "nbconvert_exporter": "python",
   "pygments_lexer": "ipython3",
   "version": "3.10.0"
  }
 },
 "nbformat": 4,
 "nbformat_minor": 5
}
